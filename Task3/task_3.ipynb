{
  "nbformat": 4,
  "nbformat_minor": 0,
  "metadata": {
    "colab": {
      "provenance": []
    },
    "kernelspec": {
      "name": "python3",
      "display_name": "Python 3"
    },
    "language_info": {
      "name": "python"
    }
  },
  "cells": [
    {
      "cell_type": "code",
      "source": [
        "!pip install scipy numpy matplotlib opencv-python"
      ],
      "metadata": {
        "id": "cTB040U3PBvp"
      },
      "execution_count": null,
      "outputs": []
    },
    {
      "cell_type": "code",
      "execution_count": null,
      "metadata": {
        "id": "3guqSbD79sbF"
      },
      "outputs": [],
      "source": [
        "import scipy.io\n",
        "import os\n",
        "import cv2\n",
        "import numpy as np\n",
        "import matplotlib.pyplot as plt\n",
        "from glob import glob\n",
        "from collections import Counter\n",
        "\n",
        "img_dir = \"data/images/\"\n",
        "labels_path = \"data/imagelabels.mat\"\n",
        "\n",
        "labels = scipy.io.loadmat(labels_path)['labels'][0]\n",
        "print(f\"Total images: {len(labels)}\")\n",
        "print(f\"Unique classes: {len(np.unique(labels))}\")\n",
        "\n",
        "label_counts = Counter(labels)\n",
        "print(\"\\nTop 5 most frequent labels:\", label_counts.most_common(5))\n",
        "\n",
        "img_paths = sorted(glob(img_dir + \"*.jpg\"))\n",
        "sample_idx = 5\n",
        "img = cv2.imread(img_paths[sample_idx])\n",
        "img_rgb = cv2.cvtColor(img, cv2.COLOR_BGR2RGB)\n",
        "\n",
        "plt.imshow(img_rgb)\n",
        "plt.title(f\"Label: {labels[sample_idx]}\")\n",
        "plt.axis('off')\n",
        "plt.show()\n",
        "\n",
        "shapes = [cv2.imread(p).shape for p in img_paths[:100]]\n",
        "heights = [s[0] for s in shapes]\n",
        "widths = [s[1] for s in shapes]\n",
        "\n",
        "print(f\"\\nAvg Height: {np.mean(heights):.2f} px\")\n",
        "print(f\"Avg Width: {np.mean(widths):.2f} px\")\n",
        "\n",
        "plt.hist(heights, bins=10, alpha=0.7, label='Heights')\n",
        "plt.hist(widths, bins=10, alpha=0.7, label='Widths')\n",
        "plt.legend()\n",
        "plt.title(\"Distribution of Image Sizes (First 100)\")\n",
        "plt.show()\n"
      ]
    }
  ]
}