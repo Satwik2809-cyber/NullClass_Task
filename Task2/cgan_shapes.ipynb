{
  "nbformat": 4,
  "nbformat_minor": 0,
  "metadata": {
    "colab": {
      "provenance": []
    },
    "kernelspec": {
      "name": "python3",
      "display_name": "Python 3"
    },
    "language_info": {
      "name": "python"
    }
  },
  "cells": [
    {
      "cell_type": "markdown",
      "source": [
        "Step 1: Generate Simple Shape Images"
      ],
      "metadata": {
        "id": "AluFLyV7UTG-"
      }
    },
    {
      "cell_type": "code",
      "execution_count": 1,
      "metadata": {
        "id": "Ihb1BX73Tuks"
      },
      "outputs": [],
      "source": [
        "import numpy as np\n",
        "import cv2\n",
        "import os\n",
        "\n",
        "shapes = ['circle', 'square', 'triangle']\n",
        "img_size = 28\n",
        "samples_per_class = 1000\n",
        "out_dir = 'shape_dataset'\n",
        "\n",
        "os.makedirs(out_dir, exist_ok=True)\n",
        "\n",
        "for shape in shapes:\n",
        "    shape_dir = os.path.join(out_dir, shape)\n",
        "    os.makedirs(shape_dir, exist_ok=True)\n",
        "\n",
        "    for i in range(samples_per_class):\n",
        "        img = np.zeros((img_size, img_size), dtype=np.uint8)\n",
        "        if shape == 'circle':\n",
        "            cv2.circle(img, (14, 14), 8, 255, -1)\n",
        "        elif shape == 'square':\n",
        "            cv2.rectangle(img, (8, 8), (20, 20), 255, -1)\n",
        "        elif shape == 'triangle':\n",
        "            pts = np.array([[14, 5], [5, 22], [23, 22]], np.int32)\n",
        "            cv2.drawContours(img, [pts], 0, 255, -1)\n",
        "\n",
        "        cv2.imwrite(os.path.join(shape_dir, f\"{i}.png\"), img)"
      ]
    },
    {
      "cell_type": "markdown",
      "source": [
        "Step 2: Train Conditional GAN"
      ],
      "metadata": {
        "id": "FJL5OF5_Ut_Z"
      }
    },
    {
      "cell_type": "code",
      "source": [
        "import torch\n",
        "import torch.nn as nn\n",
        "import torch.optim as optim\n",
        "from torchvision import transforms, datasets\n",
        "from torch.utils.data import DataLoader\n",
        "import os\n",
        "label_map = {'circle': 0, 'square': 1, 'triangle': 2}\n",
        "num_classes = 3\n",
        "nz = 100\n",
        "class Generator(nn.Module):\n",
        "    def __init__(self):\n",
        "        super().__init__()\n",
        "        self.label_emb = nn.Embedding(num_classes, 10)\n",
        "        self.net = nn.Sequential(\n",
        "            nn.Linear(nz + 10, 128),\n",
        "            nn.ReLU(True),\n",
        "            nn.Linear(128, 784),\n",
        "            nn.Tanh()\n",
        "        )\n",
        "    def forward(self, noise, labels):\n",
        "        label_embedding = self.label_emb(labels)\n",
        "        x = torch.cat([noise, label_embedding], dim=1)\n",
        "        out = self.net(x)\n",
        "        return out.view(-1, 1, 28, 28)\n",
        "class Discriminator(nn.Module):\n",
        "    def __init__(self):\n",
        "        super().__init__()\n",
        "        self.label_emb = nn.Embedding(num_classes, 10)\n",
        "        self.net = nn.Sequential(\n",
        "            nn.Linear(784 + 10, 128),\n",
        "            nn.LeakyReLU(0.2, inplace=True),\n",
        "            nn.Linear(128, 1),\n",
        "            nn.Sigmoid()\n",
        "        )\n",
        "    def forward(self, img, labels):\n",
        "        label_embedding = self.label_emb(labels)\n",
        "        img_flat = img.view(img.size(0), -1)\n",
        "        x = torch.cat([img_flat, label_embedding], dim=1)\n",
        "        return self.net(x)"
      ],
      "metadata": {
        "id": "_3pfIcE7UWHy"
      },
      "execution_count": 2,
      "outputs": []
    },
    {
      "cell_type": "markdown",
      "source": [
        "Step 3: Training Loop"
      ],
      "metadata": {
        "id": "mM5TBZDeUvM1"
      }
    },
    {
      "cell_type": "code",
      "source": [
        "transform = transforms.Compose([\n",
        "    transforms.Grayscale(),\n",
        "    transforms.ToTensor(),\n",
        "    transforms.Normalize([0.5], [0.5])\n",
        "])\n",
        "dataset = datasets.ImageFolder(root='shape_dataset', transform=transform)\n",
        "dataloader = DataLoader(dataset, batch_size=64, shuffle=True)\n",
        "\n",
        "device = torch.device(\"cuda\" if torch.cuda.is_available() else \"cpu\")\n",
        "G = Generator().to(device)\n",
        "D = Discriminator().to(device)\n",
        "\n",
        "loss_fn = nn.BCELoss()\n",
        "optimizer_G = torch.optim.Adam(G.parameters(), lr=0.0002, betas=(0.5, 0.999))\n",
        "optimizer_D = torch.optim.Adam(D.parameters(), lr=0.0002, betas=(0.5, 0.999))\n",
        "\n",
        "for epoch in range(50):\n",
        "    for real_imgs, labels in dataloader:\n",
        "        batch_size = real_imgs.size(0)\n",
        "        real_imgs, labels = real_imgs.to(device), labels.to(device)\n",
        "\n",
        "        valid = torch.ones(batch_size, 1).to(device)\n",
        "        fake = torch.zeros(batch_size, 1).to(device)\n",
        "\n",
        "        z = torch.randn(batch_size, 100).to(device)\n",
        "        fake_imgs = G(z, labels)\n",
        "\n",
        "        optimizer_D.zero_grad()\n",
        "        real_loss = loss_fn(D(real_imgs, labels), valid)\n",
        "        fake_loss = loss_fn(D(fake_imgs.detach(), labels), fake)\n",
        "        d_loss = real_loss + fake_loss\n",
        "        d_loss.backward()\n",
        "        optimizer_D.step()\n",
        "\n",
        "        optimizer_G.zero_grad()\n",
        "        gen_imgs = G(z, labels)\n",
        "        g_loss = loss_fn(D(gen_imgs, labels), valid)\n",
        "        g_loss.backward()\n",
        "        optimizer_G.step()\n",
        "\n",
        "    print(f\"[Epoch {epoch}] D Loss: {d_loss.item():.4f} | G Loss: {g_loss.item():.4f}\")\n",
        "\n",
        "torch.save(G.state_dict(), \"generator.pth\")\n",
        "torch.save(D.state_dict(), \"discriminator.pth\")"
      ],
      "metadata": {
        "colab": {
          "base_uri": "https://localhost:8080/"
        },
        "id": "2d1JyqFRUyu1",
        "outputId": "01e2f6f5-b547-481e-ea43-86f7b1558eca"
      },
      "execution_count": 8,
      "outputs": [
        {
          "output_type": "stream",
          "name": "stdout",
          "text": [
            "[Epoch 0] D Loss: 0.7445 | G Loss: 0.7269\n",
            "[Epoch 1] D Loss: 0.7837 | G Loss: 0.7657\n",
            "[Epoch 2] D Loss: 0.7666 | G Loss: 0.9024\n",
            "[Epoch 3] D Loss: 0.7999 | G Loss: 0.9369\n",
            "[Epoch 4] D Loss: 0.8440 | G Loss: 1.0045\n",
            "[Epoch 5] D Loss: 0.8594 | G Loss: 0.8477\n",
            "[Epoch 6] D Loss: 0.8983 | G Loss: 1.1451\n",
            "[Epoch 7] D Loss: 0.8719 | G Loss: 1.1824\n",
            "[Epoch 8] D Loss: 0.9224 | G Loss: 1.2816\n",
            "[Epoch 9] D Loss: 0.8918 | G Loss: 1.3641\n",
            "[Epoch 10] D Loss: 0.8166 | G Loss: 1.3806\n",
            "[Epoch 11] D Loss: 0.8186 | G Loss: 0.9550\n",
            "[Epoch 12] D Loss: 0.8149 | G Loss: 1.4230\n",
            "[Epoch 13] D Loss: 0.6899 | G Loss: 1.2371\n",
            "[Epoch 14] D Loss: 0.7287 | G Loss: 1.5094\n",
            "[Epoch 15] D Loss: 0.7728 | G Loss: 1.4630\n",
            "[Epoch 16] D Loss: 0.8471 | G Loss: 0.9086\n",
            "[Epoch 17] D Loss: 0.9268 | G Loss: 1.3397\n",
            "[Epoch 18] D Loss: 0.9644 | G Loss: 1.2990\n",
            "[Epoch 19] D Loss: 1.0429 | G Loss: 0.7087\n",
            "[Epoch 20] D Loss: 1.1044 | G Loss: 1.1182\n",
            "[Epoch 21] D Loss: 1.2040 | G Loss: 0.6135\n",
            "[Epoch 22] D Loss: 1.1979 | G Loss: 0.8125\n",
            "[Epoch 23] D Loss: 1.2792 | G Loss: 0.9284\n",
            "[Epoch 24] D Loss: 1.3314 | G Loss: 0.9919\n",
            "[Epoch 25] D Loss: 1.3067 | G Loss: 0.7707\n",
            "[Epoch 26] D Loss: 1.3206 | G Loss: 0.7268\n",
            "[Epoch 27] D Loss: 1.3368 | G Loss: 0.6926\n",
            "[Epoch 28] D Loss: 1.3419 | G Loss: 0.7128\n",
            "[Epoch 29] D Loss: 1.3590 | G Loss: 0.7628\n",
            "[Epoch 30] D Loss: 1.3604 | G Loss: 0.7188\n",
            "[Epoch 31] D Loss: 1.3746 | G Loss: 0.5998\n",
            "[Epoch 32] D Loss: 1.3672 | G Loss: 0.7720\n",
            "[Epoch 33] D Loss: 1.3724 | G Loss: 0.6314\n",
            "[Epoch 34] D Loss: 1.3705 | G Loss: 0.7273\n",
            "[Epoch 35] D Loss: 1.3728 | G Loss: 0.6941\n",
            "[Epoch 36] D Loss: 1.3763 | G Loss: 0.7623\n",
            "[Epoch 37] D Loss: 1.3773 | G Loss: 0.6897\n",
            "[Epoch 38] D Loss: 1.4184 | G Loss: 0.5324\n",
            "[Epoch 39] D Loss: 1.3755 | G Loss: 0.7032\n",
            "[Epoch 40] D Loss: 1.3793 | G Loss: 0.7533\n",
            "[Epoch 41] D Loss: 1.3765 | G Loss: 0.6703\n",
            "[Epoch 42] D Loss: 1.3792 | G Loss: 0.6937\n",
            "[Epoch 43] D Loss: 1.3788 | G Loss: 0.6902\n",
            "[Epoch 44] D Loss: 1.3852 | G Loss: 0.7448\n",
            "[Epoch 45] D Loss: 1.3848 | G Loss: 0.6940\n",
            "[Epoch 46] D Loss: 1.3799 | G Loss: 0.6659\n",
            "[Epoch 47] D Loss: 1.3800 | G Loss: 0.6878\n",
            "[Epoch 48] D Loss: 1.4003 | G Loss: 0.9194\n",
            "[Epoch 49] D Loss: 1.3862 | G Loss: 0.6912\n"
          ]
        }
      ]
    },
    {
      "cell_type": "code",
      "source": [
        "import matplotlib.pyplot as plt\n",
        "\n",
        "def show_generated_samples(label_name='circle'):\n",
        "    label = torch.tensor([label_map[label_name]] * 5).to(device)\n",
        "    noise = torch.randn(5, nz).to(device)\n",
        "    with torch.no_grad():\n",
        "        fake_imgs = G(noise, label)\n",
        "    fake_imgs = fake_imgs.cpu().numpy()\n",
        "\n",
        "    fig, axes = plt.subplots(1, 5, figsize=(10, 2))\n",
        "    for i, ax in enumerate(axes):\n",
        "        ax.imshow(fake_imgs[i][0], cmap='gray')\n",
        "        ax.axis('off')\n",
        "    plt.suptitle(f\"Generated samples for label: {label_name}\")\n",
        "    plt.show()\n",
        "\n",
        "show_generated_samples(\"circle\")\n",
        "show_generated_samples(\"square\")\n",
        "show_generated_samples(\"triangle\")\n"
      ],
      "metadata": {
        "colab": {
          "base_uri": "https://localhost:8080/",
          "height": 566
        },
        "id": "KyxkxrhiZS1P",
        "outputId": "d95d5a76-5e1b-461c-bdd5-ce8a6ee1c0de"
      },
      "execution_count": 9,
      "outputs": [
        {
          "output_type": "display_data",
          "data": {
            "text/plain": [
              "<Figure size 1000x200 with 5 Axes>"
            ],
            "image/png": "[encoded data removed]"
          },
          "metadata": {}
        },
        {
          "output_type": "display_data",
          "data": {
            "text/plain": [
              "<Figure size 1000x200 with 5 Axes>"
            ],
            "image/png": "[encoded data removed]"
          },
          "metadata": {}
        },
        {
          "output_type": "display_data",
          "data": {
            "text/plain": [
              "<Figure size 1000x200 with 5 Axes>"
            ],
            "image/png": "[encoded data removed]"
          },
          "metadata": {}
        }
      ]
    },
    {
      "cell_type": "code",
      "source": [
        "%%writefile requirements.txt\n",
        "torch>=2.0.0\n",
        "torchvision>=0.16.0\n",
        "numpy\n",
        "opencv-python\n",
        "matplotlib\n"
      ],
      "metadata": {
        "colab": {
          "base_uri": "https://localhost:8080/"
        },
        "id": "omvrQWlzdvfu",
        "outputId": "7ee8ce24-4d96-4f52-b48a-21b6994b4334"
      },
      "execution_count": 11,
      "outputs": [
        {
          "output_type": "stream",
          "name": "stdout",
          "text": [
            "Writing requirements.txt\n"
          ]
        }
      ]
    },
    {
      "cell_type": "code",
      "source": [
        "%%writefile README.md\n",
        "Task 2: Conditional GAN for Shape Generation\n",
        "\n",
        "This project trains a CGAN model to generate basic shape images based on text labels like \"circle\", \"square\", or \"triangle\".\n",
        "\n",
        "1) How to Run\n",
        "1. Install dependencies:\n",
        "pip install -r requirements.txt\n",
        "\n",
        "markdown\n",
        "Copy\n",
        "Edit\n",
        "2. Generate dataset:\n",
        "python generate_shapes.py\n",
        "\n",
        "markdown\n",
        "Copy\n",
        "Edit\n",
        "3. Open `cgan_shapes.ipynb` and train the model.\n",
        "\n",
        "2) Outputs\n",
        "- Trained CGAN model\n",
        "- Synthetic images of shapes"
      ],
      "metadata": {
        "colab": {
          "base_uri": "https://localhost:8080/"
        },
        "id": "NQk-_OQmd3a4",
        "outputId": "e2b54296-f249-4363-cd57-78ec39a4a631"
      },
      "execution_count": 10,
      "outputs": [
        {
          "output_type": "stream",
          "name": "stdout",
          "text": [
            "Writing README.md\n"
          ]
        }
      ]
    }
  ]
}